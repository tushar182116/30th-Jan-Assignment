{
 "cells": [
  {
   "cell_type": "code",
   "execution_count": 1,
   "id": "c123f7b0",
   "metadata": {},
   "outputs": [],
   "source": [
    "#Que no 1"
   ]
  },
  {
   "cell_type": "code",
   "execution_count": 2,
   "id": "0632203c",
   "metadata": {},
   "outputs": [
    {
     "name": "stdout",
     "output_type": "stream",
     "text": [
      "your percenatge223\n",
      "your grade is A\n"
     ]
    }
   ],
   "source": [
    "p=int(input(\"your percenatge\"))\n",
    "if p>90:\n",
    "    print(\"your grade is A\")\n",
    "elif p>80 and p<=90:\n",
    "    print(\"your grade is B\")\n",
    "elif p>=60 and p<=80:\n",
    "    print(\"your grade is C\")\n",
    "else:\n",
    "    print(\"your grade is D\")\n"
   ]
  },
  {
   "cell_type": "code",
   "execution_count": 3,
   "id": "620f22c7",
   "metadata": {},
   "outputs": [],
   "source": [
    "#que no 2\n"
   ]
  },
  {
   "cell_type": "code",
   "execution_count": 5,
   "id": "6cae56d8",
   "metadata": {},
   "outputs": [
    {
     "name": "stdout",
     "output_type": "stream",
     "text": [
      "cost of bike -1234567\n",
      "road tax will be 15%\n"
     ]
    }
   ],
   "source": [
    "c=int(input(\"cost of bike -\"))\n",
    "if c>100000:\n",
    "    print(\"road tax will be 15%\")\n",
    "elif c>50000 and c<=100000:\n",
    "    print(\"road tax will be 10%\")\n",
    "elif c<=50000:\n",
    "    print(\"road tax will be 5%\")\n",
    "    "
   ]
  },
  {
   "cell_type": "code",
   "execution_count": 6,
   "id": "06f0fab2",
   "metadata": {},
   "outputs": [],
   "source": [
    "#que no 3"
   ]
  },
  {
   "cell_type": "code",
   "execution_count": 8,
   "id": "19eeb354",
   "metadata": {},
   "outputs": [
    {
     "name": "stdout",
     "output_type": "stream",
     "text": [
      "name of the city-delhi\n",
      "RED FORT\n"
     ]
    }
   ],
   "source": [
    "city = input(\"name of the city-\")\n",
    "if city==\"delhi\":\n",
    "    print( \"RED FORT\")\n",
    "elif city== \"agra\":\n",
    "    print(\"TAJ MAHAL\")\n",
    "elif city==\"jaipur\":\n",
    "    print(\"JAL MAHAL\") "
   ]
  },
  {
   "cell_type": "code",
   "execution_count": 9,
   "id": "331ee271",
   "metadata": {},
   "outputs": [],
   "source": [
    "#que no 4"
   ]
  },
  {
   "cell_type": "code",
   "execution_count": 10,
   "id": "4112f095",
   "metadata": {},
   "outputs": [
    {
     "name": "stdout",
     "output_type": "stream",
     "text": [
      "give your number-12345\n",
      "The given number can be divided by 3 7 times before it becomes less than or equal to 10.\n"
     ]
    }
   ],
   "source": [
    "no= int(input(\"give your number-\"))\n",
    "count=0\n",
    "\n",
    "while no > 10:\n",
    "    no /= 3\n",
    "    count=count+1\n",
    "\n",
    "print(\"The given number can be divided by 3\",count,\"times before it becomes less than or equal to 10.\")\n"
   ]
  },
  {
   "cell_type": "code",
   "execution_count": 11,
   "id": "e80e0f91",
   "metadata": {},
   "outputs": [],
   "source": [
    "#que no5"
   ]
  },
  {
   "cell_type": "markdown",
   "id": "67c2354f",
   "metadata": {},
   "source": [
    "A while loop is a control flow statement in Python that allows you to repeatedly execute a block of code while a condition is true. The while loop is useful when you want to execute a block of code multiple times as long as a certain condition is met."
   ]
  },
  {
   "cell_type": "code",
   "execution_count": 12,
   "id": "66a3907c",
   "metadata": {},
   "outputs": [
    {
     "name": "stdout",
     "output_type": "stream",
     "text": [
      "1\n",
      "2\n",
      "3\n",
      "4\n",
      "5\n"
     ]
    }
   ],
   "source": [
    "n=1 \n",
    "while n<=5:\n",
    "    print(n)\n",
    "    n=n+1"
   ]
  },
  {
   "cell_type": "markdown",
   "id": "12221496",
   "metadata": {},
   "source": [
    "When you want to iterate over a sequence of values or items until a certain condition is met, such as finding a specific value in a list or performing a certain calculation until a certain result is achieved.\n",
    "\n",
    "When you want to continuously read input from a user until they enter a certain value or meet a certain condition.\n",
    "\n",
    "When you want to perform a certain action while a condition is true, such as updating a value or printing output to the console.\n",
    "\n",
    "When you want to create an infinite loop that runs continuously until a specific condition is met or the loop is manually terminated using a break statement."
   ]
  },
  {
   "cell_type": "code",
   "execution_count": 14,
   "id": "0fa0214d",
   "metadata": {},
   "outputs": [],
   "source": [
    "#que no 6"
   ]
  },
  {
   "cell_type": "code",
   "execution_count": 16,
   "id": "38fa67ba",
   "metadata": {},
   "outputs": [
    {
     "name": "stdout",
     "output_type": "stream",
     "text": [
      "10\n",
      "9\n",
      "8\n",
      "7\n",
      "6\n",
      "5\n",
      "4\n",
      "3\n",
      "2\n",
      "1\n"
     ]
    }
   ],
   "source": [
    "i = 10\n",
    "\n",
    "while i >= 1:\n",
    "    print(i)\n",
    "    i=i- 1\n"
   ]
  },
  {
   "cell_type": "code",
   "execution_count": null,
   "id": "83a6797f",
   "metadata": {},
   "outputs": [],
   "source": []
  }
 ],
 "metadata": {
  "kernelspec": {
   "display_name": "Python 3 (ipykernel)",
   "language": "python",
   "name": "python3"
  },
  "language_info": {
   "codemirror_mode": {
    "name": "ipython",
    "version": 3
   },
   "file_extension": ".py",
   "mimetype": "text/x-python",
   "name": "python",
   "nbconvert_exporter": "python",
   "pygments_lexer": "ipython3",
   "version": "3.9.13"
  }
 },
 "nbformat": 4,
 "nbformat_minor": 5
}
